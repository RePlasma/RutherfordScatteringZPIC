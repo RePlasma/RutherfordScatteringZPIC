{
 "cells": [
  {
   "cell_type": "markdown",
   "metadata": {},
   "source": [
    "# Rutherford scattering\n",
    "\n",
    "Notebook by: Óscar Amaro (2020)\n",
    "\n",
    "In this notebook we show how to obtain the Rutherford cross section in ZPIC.\n",
    "\n",
    "ZPIC does not have a collision module, but we can simulate collisions with an external Coulomb field. This means this notebook does not demonstrate any plasma physics, but rather a purely classical collision."
   ]
  },
  {
   "cell_type": "markdown",
   "metadata": {},
   "source": [
    "Links:\n",
    "- Check out [ZPIC on Github](https://github.com/zpic-plasma/zpic)\n",
    "- And your account on [ZPIC server](https://zpic.tecnico.ulisboa.pt/hub/login)\n",
    "\n",
    "Other links:\n",
    "- Rutherford scattering on [Wikipedia](https://en.wikipedia.org/wiki/Rutherford_scattering)\n",
    "\n",
    "Bibliography:\n",
    "- Callen [Chapter 2](http://homepages.cae.wisc.edu/~callen/book.html)\n",
    "- Goldstein 'Classical Mechanics' §3.10"
   ]
  },
  {
   "cell_type": "markdown",
   "metadata": {},
   "source": [
    "In this notebook you will learn:\n",
    "- scattering from coulomb field\n",
    "- variable normalization\n",
    "- apply external field\n",
    "- define custom density profiles\n",
    "- turn off current deposition (downgrading zpic to a particle pusher)\n",
    "- build histograms and compare with theoretical cross-section"
   ]
  },
  {
   "cell_type": "markdown",
   "metadata": {},
   "source": [
    "To consolidate what you've learned about rutherford scattering, the notebook includes some exercises."
   ]
  },
  {
   "cell_type": "code",
   "execution_count": 1,
   "metadata": {},
   "outputs": [],
   "source": [
    "from __future__ import print_function\n",
    "from ipywidgets import interact, interactive, fixed, interact_manual\n",
    "import ipywidgets as widgets\n",
    "from IPython.display import display\n",
    "from IPython.display import HTML\n",
    "\n",
    "import os,sys,inspect\n",
    "currentdir = os.path.dirname(os.path.abspath(inspect.getfile(inspect.currentframe())))\n",
    "parentdir = os.path.dirname(currentdir)\n",
    "sys.path.insert(0,parentdir) \n",
    "import em2d\n",
    "import numpy as np\n",
    "import matplotlib.pyplot as plt\n",
    "import matplotlib.colors as colors\n",
    "from matplotlib import animation, rc\n",
    "import math\n",
    "# style\n",
    "fntsz=20"
   ]
  },
  {
   "cell_type": "markdown",
   "metadata": {},
   "source": [
    "# Notation\n",
    "\n",
    "- $b$ is the impact parameter\n",
    "- $\\theta$ is the scattering angle \n",
    "- $d\\sigma/d\\Omega$  is the differential cross-section\n",
    "- $\\phi$ is the azimuthal angle\n",
    "\n",
    "The schematic below was taken from Griffiths' 'Quantum Mechanics', Chapter 11."
   ]
  },
  {
   "cell_type": "markdown",
   "metadata": {},
   "source": [
    "![title](scattering.png)"
   ]
  },
  {
   "cell_type": "markdown",
   "metadata": {},
   "source": [
    "### __Normalization__\n",
    "Before beginning it is important to normalize the relevant equations, starting with the Coulomb field.\n",
    "$$E=\\frac{Z e}{r^2} \\Leftrightarrow \\frac{m_e c \\omega_p}{e} E' = \\frac{\\omega_p^2 e}{c^2} \\frac{Z}{r'^2} \\Leftrightarrow E' = \\frac{\\omega_p e^2}{m_e c^3} \\frac{Z}{r'^2}$$\n",
    "\n",
    "now, as $\\omega_p^2 = n_e e^2/m_e$ and $[n_e] = L^{-3} = \\omega_p^3 c^{-3}$ we have $\\omega_p^2 = \\frac{\\omega_p^3 c^{-3} e^2}{m_e} \\Rightarrow \\omega_p = \\frac{m_e c^3}{e^2}$\n",
    "\n",
    "Therefore $$ E' = \\frac{Z}{r'^2}$$\n",
    "\n",
    "### __Impact parameter__\n",
    "In the case of Rutherford scattering we have\n",
    "$$\n",
    "b=\\left(q_{1} q_{2} / 8 \\pi \\epsilon_{0} \\epsilon \\right) \\cot (\\theta / 2)\n",
    "$$\n",
    "where $\\epsilon=\\frac{1}{2}m_e v_0^2$ is the kinetic energy and $v_0$ is the velocity of the incoming particle. We can rewrite this as\n",
    "$$b'= \\frac{z Z}{v_0'^2} \\frac{1}{\\tan \\theta/2}$$\n",
    "\n",
    "### __Cross section__\n",
    "The differential cross-section is defined as\n",
    "$$\n",
    "\\frac{d\\sigma}{d\\Omega}=\\frac{b}{\\sin \\theta}\\left|\\frac{d b}{d \\theta}\\right|\n",
    "$$\n",
    "\n",
    "In the case of Rutherford scattering we have\n",
    "$$\n",
    "\\frac{d\\sigma}{d\\Omega}=\\left[\\frac{q_{1} q_{2}}{16 \\pi \\epsilon_{0} \\epsilon \\sin ^{2}(\\theta / 2)}\\right]^{2}\n",
    "$$\n",
    "\n",
    "but instead of normalizing the equation, the particle histogram will be normalized numerically."
   ]
  },
  {
   "cell_type": "markdown",
   "metadata": {},
   "source": [
    "### Exercise 1\n",
    "\n",
    "In order to run the simulation and draw some animations we need to turn off some lines of code that do not change the physics dramatically.\n",
    "The meaning of these changes will become clearer later on.\n",
    "\n",
    "Please follow these instructions:\n",
    "- Turn off current deposition. Go to the `em2d` folder, run `make clean`. In `simulation.c`, comment out the lines `current_update( &sim -> current );` and `emf_advance( &sim -> emf, &sim -> current );`\n",
    "- Turn off particle sorting. In `particles.c`, comment out the line `if ( ! (spec -> iter % 16) ) spec_sort( spec );` . Run `make`\n",
    "- Go to the `python` folder. Run `make clean`, `make`\n",
    "- We are ready to go!"
   ]
  },
  {
   "cell_type": "markdown",
   "metadata": {},
   "source": [
    "We start by shooting only one electron"
   ]
  },
  {
   "cell_type": "code",
   "execution_count": 2,
   "metadata": {},
   "outputs": [
    {
     "data": {
      "application/vnd.jupyter.widget-view+json": {
       "model_id": "468844561f1f4407bdbc21920f502f4a",
       "version_major": 2,
       "version_minor": 0
      },
      "text/plain": [
       "interactive(children=(IntSlider(value=5, description='b', max=10), Output()), _dom_classes=('widget-interact',…"
      ]
     },
     "metadata": {},
     "output_type": "display_data"
    }
   ],
   "source": [
    "def chooseb(b):\n",
    "    #display(b)\n",
    "    return b\n",
    "pywidg = interactive(chooseb, b=widgets.IntSlider(min=0, max=10, step=1, value=5))\n",
    "display(pywidg)"
   ]
  },
  {
   "cell_type": "code",
   "execution_count": 3,
   "metadata": {},
   "outputs": [
    {
     "name": "stdout",
     "output_type": "stream",
     "text": [
      "#electrons= 1\n"
     ]
    }
   ],
   "source": [
    "# Grid\n",
    "nxx = 32*6\n",
    "nyy = 128*4*4\n",
    "# box\n",
    "boxL = 12.8*4; boxH = 35\n",
    "xsource = boxL/2.0; ysource = boxH/6.0\n",
    "xbeam = boxL/20; ybeam=ysource+pywidg.result;\n",
    "beamL = boxL/nxx; beamH = boxH/nyy\n",
    "# scatterer charge\n",
    "Z = -0.3\n",
    "# Time step\n",
    "ddt = 10 / ( 1/(boxL/nxx)**2 + 1/(boxH/nyy)**2 )\n",
    "tmax = 65.0\n",
    "titer = np.int(tmax/ddt)\n",
    "# initial beam momentum\n",
    "ufl0 = 0.5;\n",
    "\n",
    "# Custom density profiles along x and y\n",
    "def xdensity(x):\n",
    "    return (np.heaviside(x-(xbeam-beamL),0.5)-np.heaviside(x-(xbeam),0.5))\n",
    "def ydensity(y):\n",
    "    return (np.heaviside(y-(ybeam),0.5)-np.heaviside(y-(ybeam+beamH),0.5))\n",
    "\n",
    "# Background plasma\n",
    "density = em2d.Density( type = \"custom\", custom_x = xdensity, custom_y = ydensity )\n",
    "electrons = em2d.Species( \"electrons\", -1.0, ppc = [2,2], ufl = [ufl0,0.0,0.0], density = density )\n",
    "# Initialize simulation data\n",
    "sim = em2d.Simulation( nx = [nxx,nyy], box = [boxL,boxH], dt = ddt, \n",
    "                       species = electrons )\n",
    "npart = len(electrons.particles['x'])\n",
    "print('#electrons=',npart)\n",
    "\n",
    "# create array to store the trajectories of the particles\n",
    "trajectory = np.zeros((21,npart,2))"
   ]
  },
  {
   "cell_type": "markdown",
   "metadata": {},
   "source": [
    "### Exercise 3\n",
    "- Write down the right form of the electric field"
   ]
  },
  {
   "cell_type": "code",
   "execution_count": 4,
   "metadata": {},
   "outputs": [],
   "source": [
    "# Electric field\n",
    "def ext_E1(ix,dx,iy,dy):\n",
    "    x = ix*dx - xsource;\n",
    "    y = iy*dy - ysource;\n",
    "    r=math.sqrt(x**2+y**2)\n",
    "    phi=math.atan2(x,y)\n",
    "    mod_r = Z/r**2\n",
    "    return [mod_r*math.sin(phi),mod_r*math.cos(phi),0]\n",
    "# Magnetic field\n",
    "def ext_B1(ix,dx,iy,dy):\n",
    "    return [0.0,0.0,0.0]\n",
    "# apply fields to simulation\n",
    "ext = em2d.ExternalField(E_type = 'custom',E_custom=ext_E1,B_type = 'custom',B_custom=ext_B1)\n",
    "sim.emf.set_ext_fld( ext )"
   ]
  },
  {
   "cell_type": "code",
   "execution_count": 5,
   "metadata": {},
   "outputs": [
    {
     "name": "stdout",
     "output_type": "stream",
     "text": [
      "n = 22345, t = 64.9945,  65\r"
     ]
    }
   ],
   "source": [
    "# Run the simulation\n",
    "while sim.n < titer:\n",
    "    print('n = {:d}, t = {:g},  {:g}'.format(sim.n,sim.t,tmax), end = '\\r')\n",
    "    if np.mod(sim.n,np.int(titer/20))==0:\n",
    "        electronx = (electrons.particles['ix'] + electrons.particles['x']) * boxL/nxx\n",
    "        electrony = (electrons.particles['iy'] + electrons.particles['y']) * boxH/nyy\n",
    "        trajectory[np.int(sim.n/np.int(titer/20))-1,:,:] = np.transpose(np.array([electronx,electrony]))\n",
    "    sim.iter()\n",
    "# save last \n",
    "electronx = (electrons.particles['ix'] + electrons.particles['x']) * boxL/nxx\n",
    "electrony = (electrons.particles['iy'] + electrons.particles['y']) * boxH/nyy\n",
    "trajectory[-1,:,:] = np.transpose(np.array([electronx,electrony]))"
   ]
  },
  {
   "cell_type": "code",
   "execution_count": 7,
   "metadata": {},
   "outputs": [
    {
     "data": {
      "image/png": "[encoded data removed]",
      "text/plain": [
       "<Figure size 432x288 with 1 Axes>"
      ]
     },
     "metadata": {
      "needs_background": "light"
     },
     "output_type": "display_data"
    }
   ],
   "source": [
    "# plot the trajectory\n",
    "plt.plot(trajectory[:,0,0],trajectory[:,0,1],color='#1f77b4',label='electron')\n",
    "plt.scatter([xsource],[ysource],s=200,label='center')\n",
    "plt.xlim([0,boxL])\n",
    "plt.ylim([0,boxH])\n",
    "plt.xlabel(r'$x[c/\\omega_p]$',fontsize=fntsz)\n",
    "plt.ylabel(r'$y[c/\\omega_p]$',fontsize=fntsz)\n",
    "plt.title('Trajectory b='+str(pywidg.result)+'$c/\\omega_p$',fontsize=fntsz)\n",
    "plt.xticks(fontsize=fntsz)\n",
    "plt.yticks(fontsize=fntsz)\n",
    "plt.legend(fontsize=fntsz/1.5)\n",
    "plt.show()"
   ]
  },
  {
   "cell_type": "code",
   "execution_count": 36,
   "metadata": {},
   "outputs": [
    {
     "data": {
      "text/html": [
       "<video width=\"432\" height=\"288\" controls autoplay loop>\n",
       "  <source type=\"video/mp4\" src=\"data:video/mp4;base64,AAAAIGZ0eXBNNFYgAAACAE00ViBpc29taXNvMmF2YzEAAAAIZnJlZQAAIXdtZGF0AAACoAYF//+c\n",
       "3EXpvebZSLeWLNgg2SPu73gyNjQgLSBjb3JlIDE1MiAtIEguMjY0L01QRUctNCBBVkMgY29kZWMg\n",
       "LSBDb3B5bGVmdCAyMDAzLTIwMTcgLSBodHRwOi8vd3d3LnZpZGVvbGFuLm9yZy94MjY0Lmh0bWwg\n",
       "LSBvcHRpb25zOiBjYWJhYz0xIHJlZj0zIGRlYmxvY2s9MTowOjAgYW5hbHlzZT0weDM6MHgxMTMg\n",
       "bWU9aGV4IHN1Ym1lPTcgcHN5PTEgcHN5X3JkPTEuMDA6MC4wMCBtaXhlZF9yZWY9MSBtZV9yYW5n\n",
       "ZT0xNiBjaHJvbWFfbWU9MSB0cmVsbGlzPTEgOHg4ZGN0PTEgY3FtPTAgZGVhZHpvbmU9MjEsMTEg\n",
       "ZmFzdF9wc2tpcD0xIGNocm9tYV9xcF9vZmZzZXQ9LTIgdGhyZWFkcz02IGxvb2thaGVhZF90aHJl\n",
       "YWRzPTEgc2xpY2VkX3RocmVhZHM9MCBucj0wIGRlY2ltYXRlPTEgaW50ZXJsYWNlZD0wIGJsdXJh\n",
       "eV9jb21wYXQ9MCBjb25zdHJhaW5lZF9pbnRyYT0wIGJmcmFtZXM9MyBiX3B5cmFtaWQ9MiBiX2Fk\n",
       "YXB0PTEgYl9iaWFzPTAgZGlyZWN0PTEgd2VpZ2h0Yj0xIG9wZW5fZ29wPTAgd2VpZ2h0cD0yIGtl\n",
       "eWludD0yNTAga2V5aW50X21pbj0xNiBzY2VuZWN1dD00MCBpbnRyYV9yZWZyZXNoPTAgcmNfbG9v\n",
       "a2FoZWFkPTQwIHJjPWNyZiBtYnRyZWU9MSBjcmY9MjMuMCBxY29tcD0wLjYwIHFwbWluPTAgcXBt\n",
       "YXg9NjkgcXBzdGVwPTQgaXBfcmF0aW89MS40MCBhcT0xOjEuMDAAgAAAFopliIQAP//+92ifApta\n",
       "Q3qA5JXFJdtPguh+C8xdQCDmLYcANcPh9aStvD1S7oB8LANOM+rM2FAcjTfr1lMysy5CWf4WCUlR\n",
       "HGjiq0K6aLD0rO83BNQl8k3xVTvzheuMF2mNxVR2VLkjgWp4xR+6Dvhh7EgBXGdNVY5x8uu6wVdK\n",
       "Zc+kwsN9uAKKuhBWEBvCpLHysOALrIwYij+SVEXQuMNWxaKgtr/3em+sM8xnEXsVIRBUoMDdSCYC\n",
       "lppr95zoKIQMeoTB2aMXNWROrt6+34udFTCzmvyLKh/JaLKDtzYEZkThEOixvNhCoQ+ddp/zIa/U\n",
       "sa2/YLq3bFit+hthGBobBbOWUd9s9IKD69onDQh8NlGws8EaoSMAjnz5k0B+iDaI2/eGgjlM6fUc\n",
       "rGvgHCw0DP44p5mNUaoQl8eg8J5F4zPvwkYuH2DFqJYs6i/5tD2OFzPDvyZBAHeQeSOQ/Byyt8+h\n",
       "Op6rU6ZR6qjEmOXsJIrP9fj6e0yrtZStrTPQLz3VFllLaBb64X6NPviSB0KdC+LSRXgxO7zm6pnC\n",
       "CgSAOiW8d+rFvUi5nh35MrAtXVD+PaZBi1dztVhsKLUE/BjOVyeLgwEyZopGuwZiwSYSIuDEGIgv\n",
       "MXkPATN4BlMsjS/HthNv6PLHBnirYwBjiPGq/ieN8NZE/VzaGXQEk9etjNwW6rwRDIilU8J4cM/B\n",
       "AGhtZ25pwQb2mfut+cFmF23aEbuUi5Y53LwIzyXExd8a0RM7ObX2RBIkRc4lL8CUAtQj8GfQ4ybt\n",
       "Y//hverLwecFBn3E5jR6FdkzzzkdZl5sFMwDivwrM0DLa7SMWck5Uz4haK3v68/TJknK7h+doL1f\n",
       "A25Fj4/8wHD9G7IWPGtc5r0KmPzamPSVFGnVTqiIg50qY4wbCKuCvR8EKEq//ZG1KmCCxDQLpHHb\n",
       "ttjhqlZvOjPfsFcwZehGXLbQXDdax6eAC8r+dlPQIGNHANLtS9yTJkeUWC3kO5wszjDHmM5EWudD\n",
       "r96C8Q8xAz5xdoFrAz4aVH/65gzvSibf8zFrmnr4oN//bdXf0nOEgJRo0hqda6o8shBq9F2Xp7Jn\n",
       "YJLgO/zvrk43QmWVYHWA9Rqnqslh4a9S2lFtaBSl7xef7PrrRQfeD3mcntrvWSN59bRJ9gMl2/Ea\n",
       "aoK1VCfdzIwwHVPSRPGLqXTv7nod1HEgQCJiiNM6JnYS9OKLFx75CtxhkCKfJanD0fkwrCNf4j/Z\n",
       "x26GQ6A7NwS71Q1mNX0vhHFopNx3iSoumaQ+/MZQj0Hct82cRrWwdDloJB1iRyffJA+y4+xQBWkc\n",
       "CNZD6Nu6r6AAiDPjLlcKANpszhV220qoV42VEkM5kZOo7bV3o9sIQ29eqtUv7SW0O5OjkoGT5+6R\n",
       "xqs8U32W6ySJQxcmTPLnJQBJ712z4xmt4TiumHgreNJcqaRBte72SLXqhc1zB1d0sWkm+os/AEiA\n",
       "0fZ0dyT95aSD0d40f8SkKGZEv/CNL+jy4pYppyfsBF1FxLu1NJqo4OJCVrE9lYzOYNfCYdEA2rWF\n",
       "eHvSQ4Gp8IsT6Cb8agQEg67UIjdtj3Jbsrr6Jt5Ek91manMMFp+2PJpuogIleaGftU48DK2kd/T4\n",
       "DlJpZBau95ZJg2pHnXoHJlVrKjSkj+y6NcAoP61F75BqHaC5iqCc8G0bik6L2VhvuRnQlbQArivc\n",
       "I57j0Ll66o94MfRTEyQOnPtn7QhtEb1opiKxRY9YVqlrFp6ufQfEJJYTc4Poo/ya9XnA1stEziG4\n",
       "xd+DLEn4BiylBfcUfyapWZKoLWG4e4F5SHq/M3kK8OElkp4JMuo0G4E+CgR5wj1ZITUp70bwRhPc\n",
       "//rjrxipTtj3GAYaG/k5fW5n0tUhUnS7hECBNfxD5faj9jHDe+lt4DDamETiXYCexDaPJQ03cqRi\n",
       "xY7SpUaMh4laUQ2dVGrvQgS67fSEZhN5cjveWJk8e69QeGPKSVS9SqcgXrwvjdw1+ciWKAAwqcHt\n",
       "GvZH+VYeVyLoUVPClifJulf8IhYScN2LoLTrF4Kt6esqJv3XUtwoH1dyQKu2i3Y6BiNM8h/oxqro\n",
       "/7ysomr4j8eiblTYJylSZopES44gshsxwwumxHogG4yYpGUAEmWZKornow2BQA6ZWXOXG24/YVBp\n",
       "pftQKlywD7IjmRAEHk8bs293Tk74hDdDdw3p/8f/FsO43I/7shakRNC42rKYlbKY1zWPB1K/2bsC\n",
       "L4sfpVUXFGIa0/nzT398GrsZqsWWVeLWtn1jrPdpjAZKy7G5MkMCYn8GvFat6gkMv3aNi9M3aGcq\n",
       "sSDsqH2dAlBgjYCVdLKdssYglRxg5/550V7CAACCT1QTBM8SUXP8LVPYiMzDxceJ33uP9Q5TEQHm\n",
       "J+mzRBWEn/W0UUafoA3rJJorRcLDUHJ9cQd1yxCFPzkqq/EdzOC3gfA7+yVLPk+DtV2CcxqQ8V3d\n",
       "ZzVZhyvVmCaxw1J2fEeGdtNMDW1f5dNwLeej4YxLtSFqc1bZ/X2ecbNZM+mzJSbKOR0fmtKA+hdU\n",
       "CtWHFJ/mTA+uhGZXWX4BsLQXqJg0Raqhi+kP721/U5xnxGBkzXLDGVkeuyyUNYavYkBvwtM2QZ4+\n",
       "Nr1bBw6ZZc98jif20Q9rSxYYZ8lAyGNk64g+i/DLsv5+rjO62eDN38oeQOvyOv+Xxgc/Cc62ZDQO\n",
       "CZ4j7e/oSx0BJmodrVcq2WKqN1p34gKh9T5Q1dKub5oeJT7EVIyoYtElG7SyJGq8SzWq8NGALo54\n",
       "cwNE4YE7SXghFQfYY+SMU68WaWymBiisot8Z3ZiIgJ8Jbvs86xHH1hdH7NDufr8elUnLXgxBAY4S\n",
       "eEaIEjVnnYFDQs55U9cHD17XnH1Izk5dEznG6H0uoaPlpSa7CgWrbZxz5lyuylVNie83jqAYY6ek\n",
       "92P4JmhQ5r77K83JoesD6LKhWU1EK/SFyyz2SElChAB1N4B7UCDXjh8DmzuMZ2Vd/hu1TsmENhAe\n",
       "5GBrWZtLFXZYJZ0AKgD/w6gxFioX5+YhJOex1dG6NYybe19xBZ4fqE18ABiBykfvfFZzGgMb2ioB\n",
       "VvqJqAGTxJo0NMZqXdDF0/V6HKDXUXtTPfnoWfSe5nIzWfA6I6YiJ0OaIwDOLZSIIW36yij2Ljx/\n",
       "7RgJc3rOeH/rBWECBbCmHkyi6JLeBsH2+Vyhm2rYiIPPU2ShkYyj9QVWyvLnAG4JON8Bf//aWuQK\n",
       "T8hA5xW9i5YW353FMXV99uJKr1/K9h8Iv+ogwf75dVGEWyO02ZCmtHZQ2oIlxk5yF/Mpbfur+RPP\n",
       "hD2M0bYTwqMFLnAr7dEDUY1Fhctt0MoQzy6ybRPyg10yZtLVizD+saK+jZtHl42xFNk5V0kIRxPd\n",
       "UNTk1me5LlgSEv8NWfDFKd0vB0gvktgI1pBz5vGcsNRIQ18eGY8pp9cP8axe+cjNTPP565IkFDUA\n",
       "YOZrTjl5yCiR2avBM6yiKWVjmgi7rWKgyUvzVps/LsJ0romonaKAElzAlP5ThIC6Nx4ayB+WU4Q3\n",
       "EUhumB0mm6SmhICTE8zQ4U9oviDapelWN2KLIzL6s3/TzlXQWSdQ0+r1xCPHBECBAVlyO2I6b21n\n",
       "8L9B0+3GIzEdouV6bneJ+O+ePklOXBbCSdr/kHgUL/I5gVwrfMGCWfwIl9CjuEMQraq4B2clUV8m\n",
       "fEaC6w+yI3VIT5JMl8EfPMoCHEMiv2oAF9xfPjtyY/tG/ygn5HYeqzoRv6yRxbbNvpacXV44WVdJ\n",
       "v15C9yh8u1nBUwE6Js1+t35tVZHyXOua+eExmW3B0hjBnpilOCm1hOulG8lhm28zb1GHpw3Osru5\n",
       "3rOyUqt7mGB0QHP6Ra3bmUCC5mfSLjQDBzLFmq80dKmDpM6MUfoaP9xFyTGQyJIQ1/9sKj6vXSRL\n",
       "61eom9TkmmnY3z3K5/IYOUREW4PVbPUV7+ATrnaqqFD5M+NNwSA1L8TwawcuEgp0n7go21FfM3M9\n",
       "mD4DmoWQP6oAQOLHK7h8AHq5FtRMTWO6xNDV8jTe89/2GlK3hhx8sDeqdLWkrF4n04Qn2mgaAVHc\n",
       "GZdtVlTRqUy6s3F7hraBfG1NOf/GOrjobJ+JFrzwAq0Zgp9mwBTe5csO/diDbpi29LytBGa2Rxb/\n",
       "jNrDI0IvSvqKPihQ+NXTHSWEPqlv7YfQGcCrkejBx0bH0tOGyjIMvh0djzDIkHVW2I0O1s8Onrnm\n",
       "4gLED/EYzJ65SgFMl9dZr1vwt826xnC9ckANFQeVWqFNeBk2YIfhDHaLgm9j1qAQozZMNJ6p4BvB\n",
       "rCwTohGPxqefAgqnzX+niau9NFq6+qkOry6k+gJQd33f3ol2Pf4NhXzlfsC9f8fynnXvbG69+7Fw\n",
       "fUKug3k3iVRAv4x6+FkWe1GkM3JDDUGsP1cmJRcltV/zHmAkt1LoDRseGFhxg7Ci+T4Y7VJjh8rA\n",
       "FYSGA9oQ7a0v4OYgo0Fm3QpPLo9tDdreHhz0eoj1j9oUEiJlard7SlX1UvnEqCP0+etWCeI/KgO/\n",
       "3nPhob2eY1Zur7liLporhoWUYX6k5f1Vi3tcMJUFeZiNQkz34dDPByWau+w9RzMBfUfAnlMyOdCA\n",
       "9m0DJ9h+Oqxlv0JhPcljwf/fvxoMrwc5t7/1It19jS4RQnDiXsf8s7kE+dl4aQZbPNzac9txS1hh\n",
       "PcX8fCUvScewDO0v5T29V83misAuOTvOnqwyWOK3VBJBQW5SIUkIUTegjZTJP7y4ZKOQu6JDw//p\n",
       "Xy209e1YrO3WA/XJLZzEX1FwsGSnyz8ttpFWrVkS/oPdEkFIVVQTgpmd6MQdXBtdqaDMogrLrgae\n",
       "s566sN3BPVe6eEWxT2mKDFmVBFBK6S5it3n6fc7GIezwpI2TSAlABDDW4SPH5ux2QTVWcKHbGGt6\n",
       "PDF1qVEsViI5FIQ86d5gmrbvONLw2H7qNz98CZV8GyioByQ5sP7TZ2XO7IEGCob6A2JARDLA44rb\n",
       "X2CQ+VPzYfgvPuNWCxGfFiwCkFX9I078mI3ti0xbQyAQS7bTPYebiewTWltPGDsq3yXIDq9SRF4H\n",
       "qwnPWep/kklzn1VSmdrPY6EIOSgkliAbllv7qHJnVGxyf/x1qGh5nPJtX/jcAsa2uuibPiXqTiB8\n",
       "u/1vtK7WsYAR0vYUTdMDNRBA5OXY2r45sXi1t7yGJaJ3ke+yt8yxJLekfJNVAZpglGSaIWGoaTUT\n",
       "UDP7VOpaRpbY9sRspQ1/sGw2m/mT+yhgQ3YI3w26aaOWUQVEDrEt0jiphGNAj9AAfkf9+aJIUoCZ\n",
       "GLvKaUoJNQWhyziuOl4FbF09/CokMd2hL+tAS/JObaGtMj/0jqnyRhyOtpN9+rm7Wi4iHDdmbvTL\n",
       "s0QKoLkgblS8uVGFP+0g/S1mkVdmH5MikxFuj+aTNnxA4PnCf4fsWtloexlVNSxyAkkEB2fskcA/\n",
       "LahbMTYFrbGHkjIFzAeU5TbBEXpvDSgwatlGHpjx1KIExTQJusuSPNzPgRG1slKEuXPtpH4Gkult\n",
       "67ouvYwOIoAO5C/EbDA/DHnWxmRRlZensFn/fYTO1/cLi7Enf+UeYd04/X/VhlMuc0KmjKKrm1r8\n",
       "XdSzjnJQ7/Dwps3CTOHizqYZ9AiJZo5uIC3UdSd852nax5nwYPy/9dsSIphNYMa24TE4AwWZ77+q\n",
       "PrHi+6LfOaBxOJWhZMsaazsNPnjV4PgcMkKEhHJL6a1drB2YDc3fbf2KknffIjR6/oBxDjgb2LKB\n",
       "/xrcp4LoNhJ7Ao7+LUT55a8QQiueiK6BdIhGRpNz82fv+aFsDyOF2mRqTFHj79a/J7IXLFOkE6Hx\n",
       "uTNMXanW0Obhb/pxb6Laq1OWFpegtuuMxf91wVefmfPWiKP3WAR0OG5IjBeEEbDkIdAjB6qvmiLA\n",
       "F3HM1KTNYVF9Y5aGIJmoa72s8OcDoRw4H3bfxSbs3BfNAA5riWGX+dqZaYdXEtmifmR5rQBurHCd\n",
       "jH6gNDPMqfoC0uO4DfgjiMeSHguGBvbiMK35vPhDxtuHXt8evQlyWFgZ7CBx5viiM0fTA5zTzYrN\n",
       "haZi8ncrwSjDKTk3PeALsi7A4avzQ9+MBtRYQkp1RTRTvfnxTL5d+nwOHV/4Kh/TnX16NQslcAjM\n",
       "mq85qFoX5I+EtNYyb9OrZdgBJwMjcxQNKuo9P0qWDfjKzULUFGNmnzyfH9qbwlb6k6zB+mjg16LW\n",
       "casd1UMkK3+zDLQT/tFau+7kwKC1/KbecwmBCUdeRCtKOU+N7Y3p1yEig9aRKr6gkrQ5rIEgC+HA\n",
       "zCpqAR2xZnzSIUb2w35sqPBWvhjd05FPxpc0GdX43644tmw4WyHSTwUwJqnIODcV+yJy/8q03vWi\n",
       "p308UZ9Vq5Al6ZdwglzHlr+fjksVUTroD4TRpl3/V+r9DpQBfRorJycM0F/vkfQGR/JqPRMiZaUE\n",
       "LeVRjeHYfnQcEwzOG+8Ua/7UxV/AthmjXgwnCdnHrNN6jirZYf9ZH68n2HUiebQ25j/kBw1fGnOD\n",
       "JBQqmZJIdCVA6p0INik4mbGYkyKTEfeoftnErvKQXkjbY00UqMX5hKpdB7JjUV1BqxRnJEwwXmfj\n",
       "NxOwU1rJG2T9BndRb3wmZbp+khim7cAwo5IIvsPkBDys8d1JpKlxW3mb+hCAKZOBbCYILoHr6dwY\n",
       "6eHefbfHlk/6c5rkK/4nSOakMJ8JaPYfOXB0gdlLDcgkpQmHS+T6erG0pRZaenpdZ3Ar3FV0cU2B\n",
       "u8dOO2bvhHxVEyoZdXWk5PjcF1T+UsUNnDJ9fk+zn0hH8SEQ8hOfP7coeZV7djbSSE4SrdOmW3bk\n",
       "E4fIudi4cX+253aKqj1qpclVAcrWCEC1t86P2HEih5kvPAMfrGR3MvZd/qh6C+veHyxAAKO6Qwnm\n",
       "U5jbQpgZKDbXlB/xEeka169oKSbTjMjIRL2ufhWUYuznjKa3F7B4ci1eU+9m9N34LF3rujZuouKA\n",
       "VZ5Tqiy6JUUVUpgkkt5WWZomxvAjYDT25aeVlSl1KfMU3kVJUzzToBnohb/ySdZPob5HICzJlk/l\n",
       "B8kA6BGHob/GtcIackrMuJcki8dgliyt7N/dksOoXUOQSCD49CjZuPEyc5yCOgSIEZbVZq+tLcdB\n",
       "gGiUvGpGMNiJlVSRAzgIrjELpc/qwB0OkH5coy7YIVof2QgAAAMA4n6aUqBN3GDC2/P2Je6ky85V\n",
       "aTZyKaIf4xVWu1Svm8n8jE8WuNNANHpFA+rgSJIb+QsGb0xbyNReFDMYIJ48RmVWZFPIc431tFKU\n",
       "+6Db9nbu/+ijfdwfQH5vZQATNleS2/ggSZRHdxEf4/FtQtTobkoMzf5clgzw7x0oyEXua4SoV9kU\n",
       "PWuCEIoMX/Tk6TPv7hKHghAHTWb7EMIkeBhETFSsecaYfaHc5WOD5QGtWv74OhoxgLBeIPYXS4C+\n",
       "3XkTGwQUeodKh8wat6GmcPUp9CNaE1bYgNc97VIEJwUcU/Rvpv0un64xwfHQEUNkK8X/OApS5sH+\n",
       "mjKP/160q8r3XOrLlkAIiMc9bRUoBvljHDWeh5wffedvOvijQ1ChV1W4WT1JbXI6RF4JoxPSRRc0\n",
       "09kcFWLylcAGbKPZoQ+QOZ8FoYrNKcTb5anrn/Cd2Bvymlx6Muuhaj/Ae+5/WknCP5vw9A6kEpqT\n",
       "cdEmDMYQRFmBgmPDnKxwzX8LH3+AgAt7QhEixn84AN5eRZj49MZbI3v0/Rp77DDsCsw+vj8eBn1h\n",
       "AAACLkGaI2xDv/6ppqOLsAcoQo6MWb/jaZ+IQvbpkB7osUBsowbVNIB52KB2J++IninhdJ85eX/y\n",
       "80Ev+/ZQ2DeLvBiAcrgfJYH7OErEZ7JVMtX5cz0vKk1Q3AcIrAo2ONvDSijUqA3QPOFr2/aJVz6A\n",
       "ZCK9O98xDAYJ0xustE+0Ag4F9R0BY82oQEsG9NTkQWVZtomsL9VTkbaAfmhTpud/f5A8ToxxWgM5\n",
       "4Og1jMcVxhEj7Tcsm0dQbTySb/L3XPbCfdbrjPzNx/1kUCvG6plkBrZr6MqbjK0I0l+uTsjNEmGA\n",
       "DyEVDnQJcJzhCTunqjvJQGGJbvW1a6+aKwCqnsBQeK/GwUT+wyEtp3kfurlmoRVcCqfTk7nG21Lg\n",
       "hRVo5RQPK2+dEOMpfRX1PlpvJnXtiop73pLBSJq8AC0dz9gdoBCfS30is/gVTeDtCsCZhPhSZo14\n",
       "G6g7gbYiKEfCciVrvIODMHDuB4Z08ejd26VeaR9FNnllkVAYg7f1YIAh9xzVh1sRfP4E7Nn0BjHv\n",
       "DP9sNQQjFxscr6LrI0q5dtn3jWjErml3NF2ASj7+k31PAuf5Emtqq/H/DNchDbd2QXAbMcK5lji0\n",
       "ptB4bWz7QpE3HDql8jJQD1tOpXyEJ+pUPjgeM5Crw9Oe7LImBxAJWRN6scphgfMi/o0+tKzrSc0I\n",
       "3ZX74jk86h5HDVtNEH2sQ2VAWJzjo3WRym4+vA4uUL2VtsacF382cMA6Hpy5mM0W4gAAAH9BnkF4\n",
       "hn8KWXe6dV6FVwca4hFqAE450VSOzPR5mnO5BO4bfuVqiJack3AHlazevSyFG9znAL3lCPWdA+oQ\n",
       "w7pCxDQNqEQCuc+CtLFWxEJQ6a0bS23E3tRhvVMtSn0L2QZ9Byh8KmLglkmNzOBrV88QM2Nl6fjw\n",
       "ISfoJp8sV/KBAAAANgGeYmpC/wMmNqhcDg+MoMMWCQdZ4AANbvI9gs1TLRlSn2CtR8Fkd//kG6by\n",
       "P//8CYw28v9JuAAAAGtBmmZJqEFomUwId//+qZYF5Hesa/uAESkBvBVv6axqKeh/6/X67UB5DZVQ\n",
       "0AAA+Oa2dPFaplhBoZ1RjbBWsrjw0wAOXOLNIrgYl+MJtEapmlIR/3S4ROzp5ftnZvplU2v8iy6N\n",
       "pUHkFDcIIQAAADdBnoRFESwz/wJlgvUrPJvdezRN8JtyN4AAAEUbPKlUACetI4iZkXPGIJl5rNFT\n",
       "LDHj7fdzJmTdAAAAJwGepWpC/wMmNvzfAUlif0gXC2kXEFcN/AAbNBc+acnjCzvpCCBsQQAAAEJB\n",
       "mqdJqEFsmUwId//+qZYAAGq2f7QzoBMPY/K7XoGT7oVtljfSx/jWnFxya/mLk/B3k+t5UIoWo1o0\n",
       "I7rdPbDa7BEAAABDQZrISeEKUmUwIf/+qZYAAGejJfa3JwlhQctHYAraF4zC0CEmRnsesxf8hNCZ\n",
       "igVCsEUvn9tQrde87j6PObMPukHloAAAAG9BmuxJ4Q6JlMCHf/6plgAAZ6CSk1NSWkbXg87Up0AN\n",
       "x9HKT8SyYR88dDuRWg02J4lT/4L6qA/oWRRRlM7P0HDujkyQPTiX9Q+EQRWa68hDAtRz4x2eJS+U\n",
       "NgeuDb5Uut7SJjgq0pm5OJXe9CJ6R5wAAAA6QZ8KRRE8M/8CZRrfmNDMDwx6hlkZvYMaLB2cO3+6\n",
       "ueVLAmYANwBddLXIQ5VU+C00t6UhhWGPj0QJeQAAADABnyl0Qv8DI4krDgKB8HNrn/dyU8wz6cDa\n",
       "IABZXMST1OP6N7nQOZf+rENMk9MA7YAAAAAqAZ8rakL/AyY2/N8BSWJ/SAwcKiYBbADdrcE6/VrR\n",
       "2Sx3c588CjrBXhzwAAAAYEGbLkmoQWiZTBTw7/6plgAAYqChjlvCSUmaAB2aEPJy5hc/5W4xAqA1\n",
       "dcRg7i1mMYVrjkavAvOlDBu+SbG3qx67N+f47qr+/Uv0l+nw7qWvdK4tW4/KGreJx17/92h2wQAA\n",
       "ADABn01qQv8DJ4dVyTkEGE/o/E/wYneEluJEXBkjwms/0oLtny6oeCm/rG/ZSB/xJIUAAAB/QZtQ\n",
       "SeEKUmUwUsO//qmWAABd7LPBvBYgkvLYAL5pAPJn2Dn+N/DC73AdWK06Bp42sgD10dYWPooi7TPu\n",
       "uW4LZjZ8fxEOHSBb7Z3Gz0achUrlc9WfoDefynMiGPwtFrJePBMhRHO0l4N7/28FUorGctmrG9tP\n",
       "yEA1iwmFCplmwQAAADkBn29qQv8AANMp0rX5XXlADbvgR8TaOc1IW3L6tw2MRvJ6u7Y5tFr5TEFR\n",
       "2v7RTiHUh2NpUdSo1FgAAACQQZtySeEOiZTBRMN//qeEAAFYxy+iAHSuBfinoGnTo4bFyQSzO3Xi\n",
       "qNESzAP3k0+dr5OiQys0HoRwX5qfB/wWAXY/W15A/yw+D0UR30A+jZWNtDrcSanfzrM+EO+ehFtR\n",
       "BAxHbiMtjg7XxzLLFIH2S9+MDJUfNqrqtIGYoiiGyEJHBbc72mSLFkRw/y8I28LAAAAANwGfkWpC\n",
       "/wAA00RQPMYDcZTrDyft4XNTkIUySAEqUdZRqrDbpHKhR31yzTBs2Yp+ypIA78G+qWMAAAB8QZuU\n",
       "SeEPJlMFPC///oywAAUvfH0SS7EAAP3KKGwWdfZfux29idYvWkPsB6YAZIktAA4i51dvJDPrYiZx\n",
       "A8BYY49GDvbr5gkNC2FOIeb4Y2lob+xfXvgRG8kPq1ZSGGhBLdf/vgvcLwA+2aOgmZG3SocPeOWW\n",
       "BleMa7tQgAAAAC4Bn7NqQv8AAMkK9GAC4xUXLPPS1eQEdqIeMJF8C6Q18vD75/C6E7RUgkCwX8rg\n",
       "AAAEFm1vb3YAAABsbXZoZAAAAAAAAAAAAAAAAAAAA+gAAATsAAEAAAEAAAAAAAAAAAAAAAABAAAA\n",
       "AAAAAAAAAAAAAAAAAQAAAAAAAAAAAAAAAAAAQAAAAAAAAAAAAAAAAAAAAAAAAAAAAAAAAAAAAAAA\n",
       "AAIAAANAdHJhawAAAFx0a2hkAAAAAwAAAAAAAAAAAAAAAQAAAAAAAATsAAAAAAAAAAAAAAAAAAAA\n",
       "AAABAAAAAAAAAAAAAAAAAAAAAQAAAAAAAAAAAAAAAAAAQAAAAAGwAAABIAAAAAAAJGVkdHMAAAAc\n",
       "ZWxzdAAAAAAAAAABAAAE7AAABgAAAQAAAAACuG1kaWEAAAAgbWRoZAAAAAAAAAAAAAAAAAAAMgAA\n",
       "AD8AVcQAAAAAAC1oZGxyAAAAAAAAAAB2aWRlAAAAAAAAAAAAAAAAVmlkZW9IYW5kbGVyAAAAAmNt\n",
       "aW5mAAAAFHZtaGQAAAABAAAAAAAAAAAAAAAkZGluZgAAABxkcmVmAAAAAAAAAAEAAAAMdXJsIAAA\n",
       "AAEAAAIjc3RibAAAALdzdHNkAAAAAAAAAAEAAACnYXZjMQAAAAAAAAABAAAAAAAAAAAAAAAAAAAA\n",
       "AAGwASAASAAAAEgAAAAAAAAAAQAAAAAAAAAAAAAAAAAAAAAAAAAAAAAAAAAAAAAAAAAAABj//wAA\n",
       "ADVhdmNDAWQAFf/hABhnZAAVrNlBsJaEAAADAAwAAAMBkDxYtlgBAAZo6+PLIsD9+PgAAAAAHHV1\n",
       "aWRraEDyXyRPxbo5pRvPAyPzAAAAAAAAABhzdHRzAAAAAAAAAAEAAAAVAAADAAAAABRzdHNzAAAA\n",
       "AAAAAAEAAAABAAAAoGN0dHMAAAAAAAAAEgAAAAEAAAYAAAAAAQAADAAAAAACAAADAAAAAAEAAAwA\n",
       "AAAAAgAAAwAAAAACAAAGAAAAAAEAAA8AAAAAAQAABgAAAAABAAAAAAAAAAEAAAMAAAAAAQAACQAA\n",
       "AAABAAADAAAAAAEAAAkAAAAAAQAAAwAAAAABAAAJAAAAAAEAAAMAAAAAAQAACQAAAAABAAADAAAA\n",
       "ABxzdHNjAAAAAAAAAAEAAAABAAAAFQAAAAEAAABoc3RzegAAAAAAAAAAAAAAFQAAGTIAAAIyAAAA\n",
       "gwAAADoAAABvAAAAOwAAACsAAABGAAAARwAAAHMAAAA+AAAANAAAAC4AAABkAAAANAAAAIMAAAA9\n",
       "AAAAlAAAADsAAACAAAAAMgAAABRzdGNvAAAAAAAAAAEAAAAwAAAAYnVkdGEAAABabWV0YQAAAAAA\n",
       "AAAhaGRscgAAAAAAAAAAbWRpcmFwcGwAAAAAAAAAAAAAAAAtaWxzdAAAACWpdG9vAAAAHWRhdGEA\n",
       "AAABAAAAAExhdmY1OC40NS4xMDA=\n",
       "\">\n",
       "  Your browser does not support the video tag.\n",
       "</video>"
      ],
      "text/plain": [
       "<matplotlib.animation.FuncAnimation at 0x11dacd7b8>"
      ]
     },
     "execution_count": 36,
     "metadata": {},
     "output_type": "execute_result"
    }
   ],
   "source": [
    "# First set up the figure, the axis, and the plot element we want to animate\n",
    "fig, ax = plt.subplots()\n",
    "ax.set_xlim([0,boxL])\n",
    "ax.set_ylim([0,boxH])\n",
    "line, = ax.plot([], [], lw=2)\n",
    "ax.plot(trajectory[:,0,0],trajectory[:,0,1],color='#1f77b4',label='electron',alpha=0.2)\n",
    "ax.scatter([xsource],[ysource],s=200,label='center')\n",
    "ax.set_xlabel(r'$x[c/\\omega_p]$',fontsize=fntsz)\n",
    "ax.set_ylabel(r'$y[c/\\omega_p]$',fontsize=fntsz)\n",
    "ax.set_title('Trajectory b='+str(pywidg.result)+'$c/\\omega_p$',fontsize=fntsz)\n",
    "ax.tick_params(labelsize='medium')\n",
    "ax.legend(fontsize=fntsz/1.5)\n",
    "plt.close()\n",
    "# initialization function: plot the background of each frame\n",
    "def init():\n",
    "    #line.set_data([], [])\n",
    "    #return (line,)\n",
    "    return ()\n",
    "# animation function. This is called sequentially\n",
    "def animate(i):\n",
    "    line.set_data(trajectory[max(0,i-5):i,0,0], trajectory[max(0,i-5):i,0,1])\n",
    "    return (line,)\n",
    "# call the animator. blit=True means only re-draw the parts that have changed.\n",
    "anim = animation.FuncAnimation(fig, animate, init_func=init,\n",
    "                               frames=len(trajectory[:,0,0]), interval=60, blit=True);\n",
    "rc('animation', html='html5')\n",
    "anim"
   ]
  },
  {
   "cell_type": "markdown",
   "metadata": {},
   "source": [
    "### Exercise 4\n",
    "- Try choosing different initial positions of the incoming particle"
   ]
  },
  {
   "cell_type": "markdown",
   "metadata": {},
   "source": [
    "We now include many particles in our simulation."
   ]
  },
  {
   "cell_type": "code",
   "execution_count": 16,
   "metadata": {},
   "outputs": [
    {
     "name": "stdout",
     "output_type": "stream",
     "text": [
      "gamma = 1.118033988749895 ,v/c= 0.4472135954999579\n",
      "dt = 0.0029086812545243163\n",
      "#iterations = 22346\n"
     ]
    }
   ],
   "source": [
    "# Grid\n",
    "nxx = 32*6\n",
    "nyy = 128*4*4\n",
    "# box\n",
    "boxL = 12.8*4\n",
    "boxH = 35\n",
    "xsource = boxL/2.0\n",
    "ysource = boxH/6.0\n",
    "xbeam = boxL/20\n",
    "beamL = boxL/nxx\n",
    "beamH = 0.6*boxH\n",
    "nbins = 40 # #bins for histogram\n",
    "\n",
    "# scatterer\n",
    "Z = -0.3\n",
    "\n",
    "# Time step\n",
    "ddt = 10 / ( 1/(boxL/nxx)**2 + 1/(boxH/nyy)**2 )\n",
    "tmax = 65.0\n",
    "titer = np.int(tmax/ddt)\n",
    "\n",
    "# momentum\n",
    "ufl0 = 0.5;\n",
    "\n",
    "print('gamma =',np.sqrt(ufl0**2+1),',v/c=',ufl0/np.sqrt(ufl0**2+1))\n",
    "print('dt =',ddt); print('#iterations =',titer)"
   ]
  },
  {
   "cell_type": "markdown",
   "metadata": {},
   "source": [
    "### Exercise 2\n",
    "- What is the time step and what is the number of iterations?\n",
    "> Hint: add ``` print('dt =',ddt); print('#iterations =',titer) ``` to the code block above\n",
    "- What is the Lorentz factor? Are we in the relativistic regime?\n",
    "> Hint: add ``` print('gamma =',np.sqrt(ufl0**2+1),',v/c=',ufl0/np.sqrt(ufl0**2+1)) ``` to the code block above"
   ]
  },
  {
   "cell_type": "markdown",
   "metadata": {},
   "source": [
    "### Define density functions"
   ]
  },
  {
   "cell_type": "code",
   "execution_count": 17,
   "metadata": {},
   "outputs": [
    {
     "data": {
      "image/png": "[encoded data removed]",
      "text/plain": [
       "<Figure size 432x288 with 1 Axes>"
      ]
     },
     "metadata": {
      "needs_background": "light"
     },
     "output_type": "display_data"
    }
   ],
   "source": [
    "# Custom density profiles along x and y\n",
    "def xdensity(x):\n",
    "    return (np.heaviside(x-(xbeam-beamL),0.5)-np.heaviside(x-(xbeam),0.5))\n",
    "def ydensity(y):\n",
    "    return (np.heaviside(y-(ysource),0.5)-np.heaviside(y-(ysource+beamH),0.5))*np.sqrt(abs((y-ysource)/(beamH-beamH/1000)))\n",
    "\n",
    "xlst = np.linspace(0,boxL,128)\n",
    "plt.plot(xlst, xdensity(xlst))\n",
    "\n",
    "ylst = np.linspace(0,boxH,128)\n",
    "plt.plot(ylst, ydensity(ylst))\n",
    "plt.xlabel(r'$x,y[c/\\omega_p]$',fontsize=fntsz)\n",
    "plt.ylabel(r'$n_e/n_0$',fontsize=fntsz)\n",
    "plt.title(r'density profiles',fontsize=fntsz)\n",
    "plt.xlim([0,boxL])\n",
    "plt.xticks(fontsize=fntsz)\n",
    "plt.yticks(fontsize=fntsz)\n",
    "plt.show()"
   ]
  },
  {
   "cell_type": "markdown",
   "metadata": {},
   "source": [
    "__Compare potential with kinetic energies__\n",
    "\n",
    "If the potential component is much smaller, we can say the particles start at \"infinity\".\n",
    "\n",
    "Normalization is trivial\n",
    "$$ U' = \\frac{Z}{r'} \\ \\text{and} \\ K' = \\frac{v'^2}{2}$$"
   ]
  },
  {
   "cell_type": "code",
   "execution_count": 13,
   "metadata": {},
   "outputs": [
    {
     "name": "stdout",
     "output_type": "stream",
     "text": [
      "0.012796471585345562\n",
      "0.09999999999999999\n"
     ]
    }
   ],
   "source": [
    "r = np.sqrt((ybeam-ysource)**2+(xbeam-xsource)**2)\n",
    "def ext_V1(r):\n",
    "    return np.abs(Z)/r\n",
    "# potential energy\n",
    "print(max(ext_V1(r)))\n",
    "# kinetic energy\n",
    "print( 0.5*(ufl0/np.sqrt(ufl0**2+1))**2 )"
   ]
  },
  {
   "cell_type": "code",
   "execution_count": 18,
   "metadata": {},
   "outputs": [],
   "source": [
    "# auxiliary function for plotting histograms\n",
    "def histline(x):\n",
    "    res=np.zeros((len(x)-1,1));\n",
    "    for i in range(0,len(x)-1):\n",
    "        res[i] = (x[i]+x[i+1])/2;\n",
    "    return res"
   ]
  },
  {
   "cell_type": "code",
   "execution_count": 19,
   "metadata": {},
   "outputs": [
    {
     "name": "stdout",
     "output_type": "stream",
     "text": [
      "#electrons= 183389\n"
     ]
    }
   ],
   "source": [
    "# Background plasma\n",
    "density = em2d.Density( type = \"custom\", custom_x = xdensity, custom_y = ydensity )\n",
    "electrons = em2d.Species( \"electrons\", -1.0, ppc = [16,16], ufl = [ufl0,0.0,0.0], density = density )\n",
    "\n",
    "# Initialize simulation data\n",
    "sim = em2d.Simulation( nx = [nxx,nyy], box = [boxL,boxH], dt = ddt, \n",
    "                       species = electrons )\n",
    "npart = len(electrons.particles['x'])\n",
    "print('#electrons=',npart) #remove"
   ]
  },
  {
   "cell_type": "code",
   "execution_count": 20,
   "metadata": {},
   "outputs": [
    {
     "data": {
      "image/png": "[encoded data removed]",
      "text/plain": [
       "<Figure size 432x288 with 1 Axes>"
      ]
     },
     "metadata": {
      "needs_background": "light"
     },
     "output_type": "display_data"
    }
   ],
   "source": [
    "# initial linear density is square root\n",
    "# get impact parameter\n",
    "blst = (electrons.particles['iy'] + electrons.particles['y']) * boxH/nyy -ysource\n",
    "blst2 = np.linspace(min(blst),max(blst)) # array in range of blst\n",
    "\n",
    "plt.hist(blst,bins=nbins);\n",
    "plt.plot(blst2,np.sqrt(blst2/max(blst2))*npart/(2/3)/nbins)\n",
    "#plt.hist(trajectory[0,:,1],bins=50);\n",
    "plt.title('initial linear density should be square root',fontsize=fntsz)\n",
    "plt.xlabel(r'b',fontsize=fntsz)\n",
    "plt.ylabel(r'# electrons',fontsize=fntsz)\n",
    "plt.show()"
   ]
  },
  {
   "cell_type": "code",
   "execution_count": 21,
   "metadata": {},
   "outputs": [
    {
     "name": "stdout",
     "output_type": "stream",
     "text": [
      "memory(trajectory) = 61618704 bytes= 0.061618704 GB\n"
     ]
    }
   ],
   "source": [
    "# create array to store the trajectories of the particles\n",
    "trajectory = np.zeros((21,npart,2))\n",
    "print(\"memory(trajectory) =\",trajectory.nbytes,'bytes=',trajectory.nbytes*1e-9,'GB') #remove"
   ]
  },
  {
   "cell_type": "code",
   "execution_count": null,
   "metadata": {},
   "outputs": [],
   "source": [
    "# Run the simulation\n",
    "while sim.n < titer:\n",
    "    print('n = {:d}, t = {:g},  {:g}'.format(sim.n,sim.t,tmax), end = '\\r')\n",
    "    if np.mod(sim.n,np.int(titer/20))==0:\n",
    "        electronx = (electrons.particles['ix'] + electrons.particles['x']) * boxL/nxx\n",
    "        electrony = (electrons.particles['iy'] + electrons.particles['y']) * boxH/nyy\n",
    "        trajectory[np.int(sim.n/np.int(titer/20))-1,:,:] = np.transpose(np.array([electronx,electrony]))\n",
    "    sim.iter()\n",
    "# save last \n",
    "electronx = (electrons.particles['ix'] + electrons.particles['x']) * boxL/nxx\n",
    "electrony = (electrons.particles['iy'] + electrons.particles['y']) * boxH/nyy\n",
    "trajectory[-1,:,:] = np.transpose(np.array([electronx,electrony]))"
   ]
  },
  {
   "cell_type": "code",
   "execution_count": 249,
   "metadata": {},
   "outputs": [
    {
     "data": {
      "image/png": "[encoded data removed]",
      "text/plain": [
       "<Figure size 432x288 with 1 Axes>"
      ]
     },
     "metadata": {
      "needs_background": "light"
     },
     "output_type": "display_data"
    }
   ],
   "source": [
    "# plot some trajectories\n",
    "# if the number of particles or the number of time steps is too high, plotting is slowed down\n",
    "# select only 10 representative particles and 20 time steps\n",
    "slct = 10\n",
    "plt.plot(trajectory[:,0,0],trajectory[:,0,1],color='#1f77b4',label='electron')\n",
    "for i in range(1,slct):\n",
    "    plt.plot(trajectory[:,np.int(i*npart/10),0],trajectory[:,np.int(i*npart/10),1],color='#1f77b4')\n",
    "plt.scatter([xsource],[ysource],s=200,label='center')\n",
    "plt.xlim([0,boxL])\n",
    "plt.ylim([0,boxH])\n",
    "plt.xlabel(r'$x[c/\\omega_p]$',fontsize=fntsz)\n",
    "plt.ylabel(r'$y[c/\\omega_p]$',fontsize=fntsz)\n",
    "plt.title('representative trajectories',fontsize=fntsz)\n",
    "plt.xticks(fontsize=fntsz)\n",
    "plt.yticks(fontsize=fntsz)\n",
    "plt.legend(fontsize=fntsz/1.5)\n",
    "plt.show()"
   ]
  },
  {
   "cell_type": "code",
   "execution_count": 262,
   "metadata": {},
   "outputs": [],
   "source": [
    "# create array for angle\n",
    "thetalst = np.zeros(npart)\n",
    "for i in range(npart):\n",
    "    #deltax = electrons.particles['ux'][i]\n",
    "    #deltay = electrons.particles['uy'][i]\n",
    "    \n",
    "    deltax = (trajectory[-1,i,0]-trajectory[-2,i,0])\n",
    "    deltay = (trajectory[-1,i,1]-trajectory[-2,i,1])\n",
    "    thetalst[i] = np.arctan2(deltay,deltax)\n",
    "\n",
    "# create array for the theoretical estimation\n",
    "thetalst2 = np.linspace(1e-3,np.pi)"
   ]
  },
  {
   "cell_type": "code",
   "execution_count": 268,
   "metadata": {},
   "outputs": [
    {
     "data": {
      "image/png": "[encoded data removed]",
      "text/plain": [
       "<Figure size 432x288 with 1 Axes>"
      ]
     },
     "metadata": {
      "needs_background": "light"
     },
     "output_type": "display_data"
    }
   ],
   "source": [
    "# theta(b)\n",
    "plt.scatter(1.3*blst[0:-1:np.int(npart/1000)], thetalst[0:-1:np.int(npart/1000)],s=1,label='zpic')\n",
    "plt.plot((-1*Z/(ufl0/np.sqrt(ufl0**2+1))**2)/np.tan(thetalst2/2), thetalst2, ls = '-.', color = '#ff7f0e', label='theory',zorder=-11)\n",
    "plt.plot([min(0,min(blst)),max(blst)],[np.pi,np.pi],'--',color='#2ca02c',label=r'$\\pi,\\pi/2$')\n",
    "plt.plot([min(0,min(blst)),max(blst)],[np.pi/2,np.pi/2],'--',color='#2ca02c')\n",
    "plt.plot([(-1*Z/(ufl0/np.sqrt(ufl0**2+1))**2),(-1*Z/(ufl0/np.sqrt(ufl0**2+1))**2)],[0,np.pi],'--',color='red') # b90\n",
    "#plt.xscale('log')\n",
    "plt.ylim([0,np.pi*1.1])\n",
    "plt.xlabel(r'$b[c/\\omega_p]$',fontsize=fntsz)\n",
    "plt.ylabel(r'$\\theta$',fontsize=fntsz)\n",
    "plt.xlim([1e-1,max(blst)])\n",
    "handles, labels = plt.gca().get_legend_handles_labels()\n",
    "order = [2,0,1]\n",
    "plt.legend([handles[idx] for idx in order],[labels[idx] for idx in order],fontsize=fntsz/1.5)\n",
    "plt.xticks(fontsize=fntsz/1.5)\n",
    "plt.yticks(fontsize=fntsz/1.5)\n",
    "plt.show()"
   ]
  },
  {
   "cell_type": "code",
   "execution_count": 264,
   "metadata": {},
   "outputs": [],
   "source": [
    "# histograms output the bin content and the bin edges (size of bin content+1), which means one cannot immediately plot these two together\n",
    "# to better compare simulation with theory, we take the output of the histogram and average the bin edges\n",
    "nbins=50\n",
    "thetamin=0.4\n",
    "distY, distX, _ = plt.hist(thetalst[thetalst>thetamin], bins=nbins)\n",
    "plt.close() # don't show histogram yet\n",
    "distX2 = histline(distX)\n",
    "\n",
    "# theoretical cross section/histogram\n",
    "dsdO = np.sin(thetalst2)/np.sin(thetalst2/2)**4"
   ]
  },
  {
   "cell_type": "code",
   "execution_count": 265,
   "metadata": {},
   "outputs": [],
   "source": [
    "from scipy.integrate import quad\n",
    "def integrand(thet):\n",
    "    return np.sin(thet)/np.sin(thet/2)**4\n",
    "dsdOnrm = quad(integrand,distX2[0,0] , distX2[-1,0], args=())[0]"
   ]
  },
  {
   "cell_type": "code",
   "execution_count": 266,
   "metadata": {},
   "outputs": [
    {
     "data": {
      "image/png": "[encoded data removed]",
      "text/plain": [
       "<Figure size 432x288 with 1 Axes>"
      ]
     },
     "metadata": {
      "needs_background": "light"
     },
     "output_type": "display_data"
    }
   ],
   "source": [
    "plt.plot(distX2,distY,'.b',label='zpic') #/max(dsdO)*max(distY)\n",
    "plt.plot(thetalst2,dsdO/dsdOnrm*np.sum(distY)/nbins*np.pi,ls = '-.', color = '#ff7f0e',label='theory')\n",
    "#plt.yscale('log') # log scale shows mismatchings better\n",
    "plt.xlabel(r'$\\theta$',fontsize=fntsz)\n",
    "plt.ylabel(r'counts, $d\\sigma/d\\Omega$',fontsize=fntsz)\n",
    "plt.xticks(fontsize=fntsz/1.5)\n",
    "plt.yticks(fontsize=fntsz/1.5)\n",
    "plt.xlim([thetamin,np.pi]) # we are not interested in angles very close to zero, unless you ran a simulation with that intent\n",
    "plt.ylim([1,max(distY)]) # use this when vertical array spans several orders of magnitude\n",
    "plt.legend(fontsize=fntsz/1.5)\n",
    "plt.show()"
   ]
  },
  {
   "cell_type": "code",
   "execution_count": null,
   "metadata": {},
   "outputs": [],
   "source": []
  }
 ],
 "metadata": {
  "kernelspec": {
   "display_name": "Python 3",
   "language": "python",
   "name": "python3"
  },
  "language_info": {
   "codemirror_mode": {
    "name": "ipython",
    "version": 3
   },
   "file_extension": ".py",
   "mimetype": "text/x-python",
   "name": "python",
   "nbconvert_exporter": "python",
   "pygments_lexer": "ipython3",
   "version": "3.7.4"
  }
 },
 "nbformat": 4,
 "nbformat_minor": 4
}
